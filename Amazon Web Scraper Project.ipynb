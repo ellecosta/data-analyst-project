{
 "cells": [
  {
   "cell_type": "code",
   "execution_count": 6,
   "id": "6f57f5de",
   "metadata": {},
   "outputs": [],
   "source": [
    "#import libraries\n",
    "\n",
    "from bs4 import BeautifulSoup\n",
    "import requests\n",
    "import smtplib\n",
    "import time\n",
    "import datetime"
   ]
  },
  {
   "cell_type": "code",
   "execution_count": 59,
   "id": "ec5f36c3",
   "metadata": {},
   "outputs": [],
   "source": [
    "#Connect to website\n",
    "\n",
    "URL = 'https://www.amazon.com.br/Learning-SQL-3e-Alan-Beaulieu/dp/1492057614/ref=sr_1_4?__mk_pt_BR=%C3%85M%C3%85%C5%BD%C3%95%C3%91&crid=3FQTX84J8O2I&keywords=sql&qid=1647722333&sprefix=sql+%2Caps%2C203&sr=8-4&ufe=app_do%3Aamzn1.fos.4bddec23-2dcf-4403-8597-e1a02442043d'\n",
    "headers = {\"User-Agent\": \"Mozilla/5.0 (Windows NT 10.0; Win64; x64) AppleWebKit/537.36 (KHTML, like Gecko) Chrome/99.0.4844.74 Safari/537.36\", \"Accept\": \"text/html,application/xhtml+xml,application/xml;q=0.9,image/avif,image/webp,image/apng,*/*;q=0.8,application/signed-exchange;v=b3;q=0.9\", \n",
    "    \"Accept-Encoding\": \"gzip, deflate, br\", \"DNT\":\"1\",\"Connection\":\"close\", \"Upgrade-Insecure-Requests\":\"1\"}\n",
    "\n",
    "page = requests.get(URL, headers=headers)\n",
    "\n",
    "soup1 = BeautifulSoup(page.content, \"html.parser\")\n",
    "\n",
    "soup2 = BeautifulSoup(soup1.prettify(), \"html.parser\")\n",
    "\n",
    "title = soup2.find(id='productTitle').get_text()\n",
    "product_price = soup2.find(id='price').get_text()"
   ]
  },
  {
   "cell_type": "code",
   "execution_count": 60,
   "id": "14696245",
   "metadata": {},
   "outputs": [
    {
     "name": "stdout",
     "output_type": "stream",
     "text": [
      "\n",
      "                          R$ 274,03\n",
      "                         \n"
     ]
    }
   ],
   "source": [
    "print(product_price)"
   ]
  },
  {
   "cell_type": "code",
   "execution_count": 61,
   "id": "c21160c0",
   "metadata": {},
   "outputs": [
    {
     "name": "stdout",
     "output_type": "stream",
     "text": [
      "274,03\n",
      "\"Learning SQL: Generate, Manipulate, and Retrieve Data\"\n"
     ]
    }
   ],
   "source": [
    "title = title.strip()\n",
    "product_price = product_price.strip()[3:]\n",
    "print(product_price)\n",
    "title = '\"'+ title + '\"'\n",
    "print(title)"
   ]
  },
  {
   "cell_type": "code",
   "execution_count": 62,
   "id": "e3dc67b5",
   "metadata": {},
   "outputs": [
    {
     "name": "stdout",
     "output_type": "stream",
     "text": [
      "2022-03-19\n"
     ]
    }
   ],
   "source": [
    "import datetime\n",
    "\n",
    "today = datetime.date.today()\n",
    "print(today)"
   ]
  },
  {
   "cell_type": "code",
   "execution_count": 65,
   "id": "bd95b354",
   "metadata": {},
   "outputs": [],
   "source": [
    "import csv\n",
    "\n",
    "header = ['title', 'price', 'date']\n",
    "\n",
    "data = [title, product_price, today]\n",
    "\n",
    "#with open('AmazonDataSet2.csv', 'w', newline='', encoding = 'UTF8') as f:\n",
    " #   writer = csv.writer(f)\n",
    "  #  writer.writerow(header)\n",
    "   # writer.writerow(data)\n",
    "    "
   ]
  },
  {
   "cell_type": "code",
   "execution_count": 66,
   "id": "2f2ea3ca",
   "metadata": {},
   "outputs": [
    {
     "name": "stdout",
     "output_type": "stream",
     "text": [
      "                                               title   price        date\n",
      "0  \"Learning SQL: Generate, Manipulate, and Retri...  274,03  2022-03-19\n"
     ]
    }
   ],
   "source": [
    "import pandas as pd\n",
    "\n",
    "df = pd.read_csv(r'C:\\Users\\GISELLE\\Documents\\AmazonDataSet2.csv')\n",
    "print(df)"
   ]
  },
  {
   "cell_type": "code",
   "execution_count": null,
   "id": "091941b2",
   "metadata": {},
   "outputs": [],
   "source": [
    "#Now we are appending data to csv\n",
    "\n",
    "with open('AmazonDataSet2.csv', 'a+', newline='', encoding = 'UTF8') as f:\n",
    "    writer = csv.writer(f)\n",
    "    writer.writerow(data)"
   ]
  },
  {
   "cell_type": "code",
   "execution_count": 2,
   "id": "c3649c6d",
   "metadata": {},
   "outputs": [],
   "source": [
    "def check_price():\n",
    "    URL = 'https://www.amazon.com.br/Learning-SQL-3e-Alan-Beaulieu/dp/1492057614/ref=sr_1_4?__mk_pt_BR=%C3%85M%C3%85%C5%BD%C3%95%C3%91&crid=3FQTX84J8O2I&keywords=sql&qid=1647722333&sprefix=sql+%2Caps%2C203&sr=8-4&ufe=app_do%3Aamzn1.fos.4bddec23-2dcf-4403-8597-e1a02442043d'\n",
    "    headers = {\"User-Agent\": \"Mozilla/5.0 (Windows NT 10.0; Win64; x64) AppleWebKit/537.36 (KHTML, like Gecko) Chrome/99.0.4844.74 Safari/537.36\", \"Accept\": \"text/html,application/xhtml+xml,application/xml;q=0.9,image/avif,image/webp,image/apng,*/*;q=0.8,application/signed-exchange;v=b3;q=0.9\", \n",
    "    \"Accept-Encoding\": \"gzip, deflate, br\", \"DNT\":\"1\",\"Connection\":\"close\", \"Upgrade-Insecure-Requests\":\"1\"}\n",
    "\n",
    "    page = requests.get(URL, headers=headers)\n",
    "\n",
    "    soup1 = BeautifulSoup(page.content, \"html.parser\")\n",
    "\n",
    "    soup2 = BeautifulSoup(soup1.prettify(), \"html.parser\")\n",
    "\n",
    "    title = soup2.find(id='productTitle').get_text()\n",
    "    product_price = soup2.find(id='price').get_text()\n",
    "    \n",
    "    title = title.strip()\n",
    "    title = '\"'+ title + '\"'\n",
    "    product_price = product_price.strip()[3:]\n",
    "    \n",
    "    import datetime\n",
    "\n",
    "    today = datetime.date.today()\n",
    "    \n",
    "    import csv\n",
    "\n",
    "    header = ['title', 'price', 'date']\n",
    "\n",
    "    data = [title, product_price, today]\n",
    "\n",
    "    with open('AmazonDataSet2.csv', 'a+', newline='', encoding = 'UTF8') as f:\n",
    "        writer = csv.writer(f)\n",
    "        writer.writerow(data)\n"
   ]
  },
  {
   "cell_type": "code",
   "execution_count": 3,
   "id": "2be7fc07",
   "metadata": {},
   "outputs": [],
   "source": [
    "import pandas as pd\n",
    "\n",
    "df = pd.read_csv(r'C:\\Users\\GISELLE\\Documents\\AmazonDataSet2.csv')"
   ]
  },
  {
   "cell_type": "code",
   "execution_count": 4,
   "id": "80c0b9f6",
   "metadata": {},
   "outputs": [
    {
     "name": "stdout",
     "output_type": "stream",
     "text": [
      "                                               title   price        date\n",
      "0  \"Learning SQL: Generate, Manipulate, and Retri...  274,03  2022-03-19\n"
     ]
    }
   ],
   "source": [
    "print(df)"
   ]
  },
  {
   "cell_type": "code",
   "execution_count": null,
   "id": "8843b9cb",
   "metadata": {},
   "outputs": [],
   "source": [
    "#while(True):\n",
    " #   check_price()\n",
    "  #  time.sleep(5)"
   ]
  },
  {
   "cell_type": "code",
   "execution_count": 9,
   "id": "9b5346dc",
   "metadata": {},
   "outputs": [
    {
     "name": "stdout",
     "output_type": "stream",
     "text": [
      "                                               title   price        date\n",
      "0  \"Learning SQL: Generate, Manipulate, and Retri...  274,03  2022-03-19\n",
      "1  \"Learning SQL: Generate, Manipulate, and Retri...  274,03  2022-03-19\n",
      "2  \"Learning SQL: Generate, Manipulate, and Retri...  274,03  2022-03-19\n",
      "3  \"Learning SQL: Generate, Manipulate, and Retri...  274,03  2022-03-19\n",
      "4  \"Learning SQL: Generate, Manipulate, and Retri...  274,03  2022-03-19\n",
      "5  \"Learning SQL: Generate, Manipulate, and Retri...  274,03  2022-03-19\n"
     ]
    }
   ],
   "source": [
    "import pandas as pd\n",
    "\n",
    "df = pd.read_csv(r'C:\\Users\\GISELLE\\Documents\\AmazonDataSet2.csv')\n",
    "print(df)"
   ]
  },
  {
   "cell_type": "code",
   "execution_count": null,
   "id": "06d8e3e1",
   "metadata": {},
   "outputs": [],
   "source": []
  }
 ],
 "metadata": {
  "kernelspec": {
   "display_name": "Python 3",
   "language": "python",
   "name": "python3"
  },
  "language_info": {
   "codemirror_mode": {
    "name": "ipython",
    "version": 3
   },
   "file_extension": ".py",
   "mimetype": "text/x-python",
   "name": "python",
   "nbconvert_exporter": "python",
   "pygments_lexer": "ipython3",
   "version": "3.8.8"
  }
 },
 "nbformat": 4,
 "nbformat_minor": 5
}
